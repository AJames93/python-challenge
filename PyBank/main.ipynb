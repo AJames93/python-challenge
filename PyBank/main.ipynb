{
 "cells": [
  {
   "cell_type": "code",
   "execution_count": 1,
   "id": "b2744775-fce0-4a1f-89c1-be514e7cbba6",
   "metadata": {},
   "outputs": [],
   "source": [
    "import os \n",
    "import pandas as pd "
   ]
  },
  {
   "cell_type": "code",
   "execution_count": 2,
   "id": "e7d4b640-4a83-4cd5-a4aa-e222acf9ec18",
   "metadata": {},
   "outputs": [],
   "source": [
    "bank_df = pd.read_csv(\"resources/budget_data.csv\")"
   ]
  },
  {
   "cell_type": "code",
   "execution_count": 3,
   "id": "d29b81e6-252a-47ac-9568-155cf98ee983",
   "metadata": {},
   "outputs": [
    {
     "data": {
      "text/plain": [
       "86"
      ]
     },
     "execution_count": 3,
     "metadata": {},
     "output_type": "execute_result"
    }
   ],
   "source": [
    "#find total number of months \n",
    "month_total = bank_df[\"Date\"].count()\n",
    "month_total"
   ]
  },
  {
   "cell_type": "code",
   "execution_count": 4,
   "id": "27c4aebd-9e98-461a-b724-3be27e09debf",
   "metadata": {},
   "outputs": [
    {
     "data": {
      "text/plain": [
       "38382578"
      ]
     },
     "execution_count": 4,
     "metadata": {},
     "output_type": "execute_result"
    }
   ],
   "source": [
    "#find profit/losses total \n",
    "net_change = bank_df[\"Profit/Losses\"].sum()\n",
    "net_change"
   ]
  },
  {
   "cell_type": "code",
   "execution_count": 5,
   "id": "928ef293-5425-4bcc-8e56-c11dfc1dec8d",
   "metadata": {},
   "outputs": [],
   "source": [
    "#Changing P/L to a list\n",
    "prof_loss = bank_df[\"Profit/Losses\"].to_list()\n"
   ]
  },
  {
   "cell_type": "code",
   "execution_count": 6,
   "id": "e657e62d-818b-4e60-9c96-ca9cf1d31003",
   "metadata": {},
   "outputs": [],
   "source": [
    "total_change = [0]"
   ]
  },
  {
   "cell_type": "code",
   "execution_count": 7,
   "id": "88234cae-e0c1-4291-87c9-4067384fb6cd",
   "metadata": {},
   "outputs": [],
   "source": [
    "#Finding the change \n",
    "for i in range(1, len(prof_loss)):\n",
    "    diff = prof_loss[i]-prof_loss[i - 1]\n",
    "    total_change.append(diff)"
   ]
  },
  {
   "cell_type": "code",
   "execution_count": 8,
   "id": "eb84fd89-40f9-4134-9ff1-5d6a7bed7b26",
   "metadata": {},
   "outputs": [
    {
     "data": {
      "text/html": [
       "<div>\n",
       "<style scoped>\n",
       "    .dataframe tbody tr th:only-of-type {\n",
       "        vertical-align: middle;\n",
       "    }\n",
       "\n",
       "    .dataframe tbody tr th {\n",
       "        vertical-align: top;\n",
       "    }\n",
       "\n",
       "    .dataframe thead th {\n",
       "        text-align: right;\n",
       "    }\n",
       "</style>\n",
       "<table border=\"1\" class=\"dataframe\">\n",
       "  <thead>\n",
       "    <tr style=\"text-align: right;\">\n",
       "      <th></th>\n",
       "      <th>Date</th>\n",
       "      <th>Profit/Losses</th>\n",
       "    </tr>\n",
       "  </thead>\n",
       "  <tbody>\n",
       "    <tr>\n",
       "      <th>0</th>\n",
       "      <td>Jan-2010</td>\n",
       "      <td>867884</td>\n",
       "    </tr>\n",
       "    <tr>\n",
       "      <th>1</th>\n",
       "      <td>Feb-2010</td>\n",
       "      <td>984655</td>\n",
       "    </tr>\n",
       "    <tr>\n",
       "      <th>2</th>\n",
       "      <td>Mar-2010</td>\n",
       "      <td>322013</td>\n",
       "    </tr>\n",
       "    <tr>\n",
       "      <th>3</th>\n",
       "      <td>Apr-2010</td>\n",
       "      <td>-69417</td>\n",
       "    </tr>\n",
       "    <tr>\n",
       "      <th>4</th>\n",
       "      <td>May-2010</td>\n",
       "      <td>310503</td>\n",
       "    </tr>\n",
       "  </tbody>\n",
       "</table>\n",
       "</div>"
      ],
      "text/plain": [
       "       Date  Profit/Losses\n",
       "0  Jan-2010         867884\n",
       "1  Feb-2010         984655\n",
       "2  Mar-2010         322013\n",
       "3  Apr-2010         -69417\n",
       "4  May-2010         310503"
      ]
     },
     "execution_count": 8,
     "metadata": {},
     "output_type": "execute_result"
    }
   ],
   "source": [
    "new_bank_df = pd.DataFrame(bank_df)\n",
    "new_bank_df.head()"
   ]
  },
  {
   "cell_type": "code",
   "execution_count": 9,
   "id": "7e8efffd-64f9-4a44-9ad6-5891c569b9d2",
   "metadata": {},
   "outputs": [],
   "source": [
    "new_bank_df[\"Difference\"] = total_change\n"
   ]
  },
  {
   "cell_type": "code",
   "execution_count": 10,
   "id": "975ff0d7-79fe-44ae-8b42-6563951a801a",
   "metadata": {},
   "outputs": [
    {
     "data": {
      "text/html": [
       "<div>\n",
       "<style scoped>\n",
       "    .dataframe tbody tr th:only-of-type {\n",
       "        vertical-align: middle;\n",
       "    }\n",
       "\n",
       "    .dataframe tbody tr th {\n",
       "        vertical-align: top;\n",
       "    }\n",
       "\n",
       "    .dataframe thead th {\n",
       "        text-align: right;\n",
       "    }\n",
       "</style>\n",
       "<table border=\"1\" class=\"dataframe\">\n",
       "  <thead>\n",
       "    <tr style=\"text-align: right;\">\n",
       "      <th></th>\n",
       "      <th>Date</th>\n",
       "      <th>Profit/Losses</th>\n",
       "      <th>Difference</th>\n",
       "    </tr>\n",
       "  </thead>\n",
       "  <tbody>\n",
       "    <tr>\n",
       "      <th>0</th>\n",
       "      <td>Jan-2010</td>\n",
       "      <td>867884</td>\n",
       "      <td>0</td>\n",
       "    </tr>\n",
       "    <tr>\n",
       "      <th>1</th>\n",
       "      <td>Feb-2010</td>\n",
       "      <td>984655</td>\n",
       "      <td>116771</td>\n",
       "    </tr>\n",
       "    <tr>\n",
       "      <th>2</th>\n",
       "      <td>Mar-2010</td>\n",
       "      <td>322013</td>\n",
       "      <td>-662642</td>\n",
       "    </tr>\n",
       "    <tr>\n",
       "      <th>3</th>\n",
       "      <td>Apr-2010</td>\n",
       "      <td>-69417</td>\n",
       "      <td>-391430</td>\n",
       "    </tr>\n",
       "    <tr>\n",
       "      <th>4</th>\n",
       "      <td>May-2010</td>\n",
       "      <td>310503</td>\n",
       "      <td>379920</td>\n",
       "    </tr>\n",
       "  </tbody>\n",
       "</table>\n",
       "</div>"
      ],
      "text/plain": [
       "       Date  Profit/Losses  Difference\n",
       "0  Jan-2010         867884           0\n",
       "1  Feb-2010         984655      116771\n",
       "2  Mar-2010         322013     -662642\n",
       "3  Apr-2010         -69417     -391430\n",
       "4  May-2010         310503      379920"
      ]
     },
     "execution_count": 10,
     "metadata": {},
     "output_type": "execute_result"
    }
   ],
   "source": [
    "new_bank_df.head()"
   ]
  },
  {
   "cell_type": "code",
   "execution_count": 11,
   "id": "91cd44a2-96b4-4dc5-8e91-71a6b74f214d",
   "metadata": {},
   "outputs": [],
   "source": [
    "#Finding the average change \n",
    "average_change = new_bank_df[\"Difference\"].sum() / (month_total-1) "
   ]
  },
  {
   "cell_type": "code",
   "execution_count": 12,
   "id": "7f9fddec-0a38-44a0-a33f-ad899b533743",
   "metadata": {},
   "outputs": [
    {
     "data": {
      "text/plain": [
       "-2315.1176470588234"
      ]
     },
     "execution_count": 12,
     "metadata": {},
     "output_type": "execute_result"
    }
   ],
   "source": [
    "average_change"
   ]
  },
  {
   "cell_type": "code",
   "execution_count": 13,
   "id": "7bb2394a-9df0-400e-8747-5a3d28c85676",
   "metadata": {},
   "outputs": [],
   "source": [
    "#Finding the greatest increase \n",
    "increase = new_bank_df[\"Difference\"].max()"
   ]
  },
  {
   "cell_type": "code",
   "execution_count": 14,
   "id": "25ff9a64-fd46-4541-8ede-a3b915196e07",
   "metadata": {},
   "outputs": [
    {
     "data": {
      "text/plain": [
       "1926159"
      ]
     },
     "execution_count": 14,
     "metadata": {},
     "output_type": "execute_result"
    }
   ],
   "source": [
    "increase"
   ]
  },
  {
   "cell_type": "code",
   "execution_count": 15,
   "id": "e8e2fea0-a057-453d-a018-7b3d56711a4a",
   "metadata": {},
   "outputs": [],
   "source": [
    "#Finding the greatest decrease\n",
    "decrease = new_bank_df[\"Difference\"].min()"
   ]
  },
  {
   "cell_type": "code",
   "execution_count": 16,
   "id": "3ab95c30-86cc-4007-b044-4895db174254",
   "metadata": {},
   "outputs": [
    {
     "data": {
      "text/plain": [
       "-2196167"
      ]
     },
     "execution_count": 16,
     "metadata": {},
     "output_type": "execute_result"
    }
   ],
   "source": [
    "decrease"
   ]
  },
  {
   "cell_type": "code",
   "execution_count": 17,
   "id": "4faccf5b-8814-43a4-a5de-a3c37ec0d943",
   "metadata": {},
   "outputs": [
    {
     "data": {
      "text/plain": [
       "25    Feb-2012\n",
       "Name: Date, dtype: object"
      ]
     },
     "execution_count": 17,
     "metadata": {},
     "output_type": "execute_result"
    }
   ],
   "source": [
    "#Finding the dates for those results \n",
    "in_date = new_bank_df.loc[bank_df[\"Difference\"] == increase, \"Date\"]\n",
    "in_date"
   ]
  },
  {
   "cell_type": "code",
   "execution_count": 18,
   "id": "57441548-06a2-451d-a8bb-dd8575ac7183",
   "metadata": {},
   "outputs": [
    {
     "data": {
      "text/plain": [
       "44    Sep-2013\n",
       "Name: Date, dtype: object"
      ]
     },
     "execution_count": 18,
     "metadata": {},
     "output_type": "execute_result"
    }
   ],
   "source": [
    "de_date = new_bank_df.loc[bank_df[\"Difference\"] == decrease, \"Date\"]\n",
    "de_date"
   ]
  },
  {
   "cell_type": "code",
   "execution_count": 19,
   "id": "9d6e7356-22af-4865-bbf6-a1399d7a0d63",
   "metadata": {},
   "outputs": [],
   "source": [
    "#Creating dictionairies for final analysis ticket \n",
    "month = (f\"Total Months: {month_total}\")\n",
    "total = (f\"Total: ${net_change:,.2f}\")\n",
    "average = (f\"Average Change: ${average_change:,.2f}\")\n",
    "increase = (f\"Greatest Increase in Profits: {in_date.to_string(index=False)} (${increase:,.2f})\")\n",
    "decrease = (f\"Greatest Decrease in Profits: {de_date.to_string(index=False)} (${decrease:,.2f})\")\n"
   ]
  },
  {
   "cell_type": "code",
   "execution_count": 20,
   "id": "0e0e2a20-995c-452b-8709-d505eceb4e08",
   "metadata": {},
   "outputs": [
    {
     "name": "stdout",
     "output_type": "stream",
     "text": [
      "Total Months: 86\n",
      "Total: $38,382,578.00\n",
      "Average Change: $-2,315.12\n",
      "Greatest Increase in Profits: Feb-2012 ($1,926,159.00)\n",
      "Greatest Decrease in Profits: Sep-2013 ($-2,196,167.00)\n"
     ]
    }
   ],
   "source": [
    "Financial_Analysis = print(month), print(total), print(average), print(increase), print(decrease)"
   ]
  },
  {
   "cell_type": "code",
   "execution_count": 21,
   "id": "8d3eccdf-29a5-4223-a2cc-94aa8bc06932",
   "metadata": {},
   "outputs": [],
   "source": [
    "#Creating the dataframe from dictionairies\n",
    "analyzed_bank_df = [\n",
    "    {\"-------------------\"},\n",
    "    {month},\n",
    "    {total},\n",
    "    {average},\n",
    "    {increase},\n",
    "    {decrease}]\n",
    "\n",
    "results_ticket = pd.DataFrame(analyzed_bank_df)\n",
    "results_ticket.columns = [\"Financial Analysis\"]"
   ]
  },
  {
   "cell_type": "code",
   "execution_count": 22,
   "id": "362b9de2-42ff-449f-81cc-742515829303",
   "metadata": {},
   "outputs": [
    {
     "data": {
      "text/html": [
       "<div>\n",
       "<style scoped>\n",
       "    .dataframe tbody tr th:only-of-type {\n",
       "        vertical-align: middle;\n",
       "    }\n",
       "\n",
       "    .dataframe tbody tr th {\n",
       "        vertical-align: top;\n",
       "    }\n",
       "\n",
       "    .dataframe thead th {\n",
       "        text-align: right;\n",
       "    }\n",
       "</style>\n",
       "<table border=\"1\" class=\"dataframe\">\n",
       "  <thead>\n",
       "    <tr style=\"text-align: right;\">\n",
       "      <th></th>\n",
       "      <th>Financial Analysis</th>\n",
       "    </tr>\n",
       "  </thead>\n",
       "  <tbody>\n",
       "    <tr>\n",
       "      <th>0</th>\n",
       "      <td>-------------------</td>\n",
       "    </tr>\n",
       "    <tr>\n",
       "      <th>1</th>\n",
       "      <td>Total Months: 86</td>\n",
       "    </tr>\n",
       "    <tr>\n",
       "      <th>2</th>\n",
       "      <td>Total: $38,382,578.00</td>\n",
       "    </tr>\n",
       "    <tr>\n",
       "      <th>3</th>\n",
       "      <td>Average Change: $-2,315.12</td>\n",
       "    </tr>\n",
       "    <tr>\n",
       "      <th>4</th>\n",
       "      <td>Greatest Increase in Profits: Feb-2012 ($1,926...</td>\n",
       "    </tr>\n",
       "    <tr>\n",
       "      <th>5</th>\n",
       "      <td>Greatest Decrease in Profits: Sep-2013 ($-2,19...</td>\n",
       "    </tr>\n",
       "  </tbody>\n",
       "</table>\n",
       "</div>"
      ],
      "text/plain": [
       "                                  Financial Analysis\n",
       "0                                -------------------\n",
       "1                                   Total Months: 86\n",
       "2                              Total: $38,382,578.00\n",
       "3                         Average Change: $-2,315.12\n",
       "4  Greatest Increase in Profits: Feb-2012 ($1,926...\n",
       "5  Greatest Decrease in Profits: Sep-2013 ($-2,19..."
      ]
     },
     "execution_count": 22,
     "metadata": {},
     "output_type": "execute_result"
    }
   ],
   "source": [
    "#Final results to show \n",
    "results_ticket"
   ]
  },
  {
   "cell_type": "code",
   "execution_count": 23,
   "id": "554d4d09-7c73-4c11-a26e-1c70a4b58fb2",
   "metadata": {},
   "outputs": [],
   "source": [
    "#Exporting results to text file \n",
    "results_ticket.to_csv(\"analysis/main.txt\", index=False)"
   ]
  },
  {
   "cell_type": "code",
   "execution_count": null,
   "id": "276b746a-c274-4bc7-8cbe-3f27e7d2498c",
   "metadata": {},
   "outputs": [],
   "source": []
  },
  {
   "cell_type": "code",
   "execution_count": null,
   "id": "451a2be2-3611-4c7e-91b9-92ac1e95d9aa",
   "metadata": {},
   "outputs": [],
   "source": []
  },
  {
   "cell_type": "code",
   "execution_count": null,
   "id": "25a7c22f-9c91-4550-bca4-be02be587459",
   "metadata": {},
   "outputs": [],
   "source": []
  }
 ],
 "metadata": {
  "kernelspec": {
   "display_name": "Python 3 (ipykernel)",
   "language": "python",
   "name": "python3"
  },
  "language_info": {
   "codemirror_mode": {
    "name": "ipython",
    "version": 3
   },
   "file_extension": ".py",
   "mimetype": "text/x-python",
   "name": "python",
   "nbconvert_exporter": "python",
   "pygments_lexer": "ipython3",
   "version": "3.9.7"
  }
 },
 "nbformat": 4,
 "nbformat_minor": 5
}
