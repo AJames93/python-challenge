{
 "cells": [
  {
   "cell_type": "code",
   "execution_count": 13,
   "id": "5fd1b4f3-a335-4175-9957-023db3a30ca4",
   "metadata": {},
   "outputs": [],
   "source": [
    "import os \n",
    "import pandas as pd \n"
   ]
  },
  {
   "cell_type": "code",
   "execution_count": 14,
   "id": "f83635b5-152f-4c6a-a65a-57969325e52c",
   "metadata": {},
   "outputs": [],
   "source": [
    "bank_df = pd.read_csv(\"resources/budget_data.csv\")"
   ]
  },
  {
   "cell_type": "code",
   "execution_count": 15,
   "id": "93dd50cd-271f-4841-8b51-18aca7510ec0",
   "metadata": {},
   "outputs": [
    {
     "data": {
      "text/plain": [
       "86"
      ]
     },
     "execution_count": 15,
     "metadata": {},
     "output_type": "execute_result"
    }
   ],
   "source": [
    "#find number of months \n",
    "month_total = bank_df[\"Date\"].count()\n",
    "month_total"
   ]
  },
  {
   "cell_type": "code",
   "execution_count": 16,
   "id": "76870a17-2c33-4410-b9cf-8dddb9a519f5",
   "metadata": {},
   "outputs": [
    {
     "data": {
      "text/plain": [
       "38382578"
      ]
     },
     "execution_count": 16,
     "metadata": {},
     "output_type": "execute_result"
    }
   ],
   "source": [
    "#find profit/losses total \n",
    "net_change = bank_df[\"Profit/Losses\"].sum()\n",
    "net_change"
   ]
  },
  {
   "cell_type": "code",
   "execution_count": 17,
   "id": "64695349-b9cf-4738-9fd2-89b8c9ab2209",
   "metadata": {},
   "outputs": [],
   "source": [
    "prof_loss = bank_df[\"Profit/Losses\"].to_list()"
   ]
  },
  {
   "cell_type": "code",
   "execution_count": 18,
   "id": "840e3452-3dd4-4665-ada5-a6cbe4eaa08e",
   "metadata": {},
   "outputs": [],
   "source": [
    "total_change = [0]"
   ]
  },
  {
   "cell_type": "code",
   "execution_count": 19,
   "id": "bde6c1aa-9a30-46ce-9a50-908ddd3f8002",
   "metadata": {},
   "outputs": [],
   "source": [
    "for i in range(1, len(prof_loss)):\n",
    "    diff = prof_loss[i]-prof_loss[i - 1]\n",
    "    total_change.append(diff)"
   ]
  },
  {
   "cell_type": "code",
   "execution_count": 20,
   "id": "35948462-ac44-4d76-86e5-0ceba73327ff",
   "metadata": {},
   "outputs": [],
   "source": [
    "bank_df[\"Difference\"] = total_change"
   ]
  },
  {
   "cell_type": "code",
   "execution_count": 21,
   "id": "4e0e8062-3b8b-43f4-82d3-9100c14e8066",
   "metadata": {},
   "outputs": [],
   "source": [
    "average_change = bank_df[\"Difference\"].sum() / 85 "
   ]
  },
  {
   "cell_type": "code",
   "execution_count": 22,
   "id": "9a59a533-359f-48bd-9081-60a2c5504022",
   "metadata": {},
   "outputs": [],
   "source": [
    "increase = bank_df[\"Difference\"].max()"
   ]
  },
  {
   "cell_type": "code",
   "execution_count": 23,
   "id": "464ff79c-4a1d-418b-8d98-ed26e9c9b559",
   "metadata": {},
   "outputs": [],
   "source": [
    "decrease = bank_df[\"Difference\"].min()"
   ]
  },
  {
   "cell_type": "code",
   "execution_count": 30,
   "id": "784cd7c1-7bb2-4960-a58f-85c1d0826652",
   "metadata": {},
   "outputs": [
    {
     "ename": "SyntaxError",
     "evalue": "invalid syntax (Temp/ipykernel_1484/3815005837.py, line 2)",
     "output_type": "error",
     "traceback": [
      "\u001b[1;36m  File \u001b[1;32m\"C:\\Users\\reyna\\AppData\\Local\\Temp/ipykernel_1484/3815005837.py\"\u001b[1;36m, line \u001b[1;32m2\u001b[0m\n\u001b[1;33m    total = print(f\"Total: ${net_change:,.2f}\"\u001b[0m\n\u001b[1;37m    ^\u001b[0m\n\u001b[1;31mSyntaxError\u001b[0m\u001b[1;31m:\u001b[0m invalid syntax\n"
     ]
    }
   ],
   "source": [
    "month = print(f\"Total Months:\", print(month_total)\n",
    "total = print(f\"Total: ${net_change:,.2f}\"\n",
    "average = print(f\"Average Change: ${average_change:,.2f}\"\n",
    "increase = print(f\"Greatest Increase in Profits: ${increase:,.2f}\"\n",
    "decrease = print(f\"Greatest Decrease in Profits: ${decrease:,.2f}\""
   ]
  },
  {
   "cell_type": "code",
   "execution_count": 25,
   "id": "be0ed044-e63a-479b-b324-34e12669934d",
   "metadata": {},
   "outputs": [
    {
     "ename": "NameError",
     "evalue": "name 'month' is not defined",
     "output_type": "error",
     "traceback": [
      "\u001b[1;31m---------------------------------------------------------------------------\u001b[0m",
      "\u001b[1;31mNameError\u001b[0m                                 Traceback (most recent call last)",
      "\u001b[1;32m~\\AppData\\Local\\Temp/ipykernel_1484/3300356002.py\u001b[0m in \u001b[0;36m<module>\u001b[1;34m\u001b[0m\n\u001b[1;32m----> 1\u001b[1;33m \u001b[0mFinancial_Analysis\u001b[0m \u001b[1;33m=\u001b[0m \u001b[0mprint\u001b[0m\u001b[1;33m(\u001b[0m\u001b[0mmonth\u001b[0m\u001b[1;33m)\u001b[0m\u001b[1;33m,\u001b[0m \u001b[0mprint\u001b[0m\u001b[1;33m(\u001b[0m\u001b[0mtotal\u001b[0m\u001b[1;33m)\u001b[0m\u001b[1;33m,\u001b[0m \u001b[0mprint\u001b[0m\u001b[1;33m(\u001b[0m\u001b[0maverage\u001b[0m\u001b[1;33m)\u001b[0m\u001b[1;33m,\u001b[0m \u001b[0mprint\u001b[0m\u001b[1;33m(\u001b[0m\u001b[0mincrease\u001b[0m\u001b[1;33m)\u001b[0m\u001b[1;33m,\u001b[0m \u001b[0mprint\u001b[0m\u001b[1;33m(\u001b[0m\u001b[0mdecrease\u001b[0m\u001b[1;33m)\u001b[0m\u001b[1;33m\u001b[0m\u001b[1;33m\u001b[0m\u001b[0m\n\u001b[0m",
      "\u001b[1;31mNameError\u001b[0m: name 'month' is not defined"
     ]
    }
   ],
   "source": [
    "Financial_Analysis = print(month), print(total), print(average), print(increase), print(decrease)"
   ]
  },
  {
   "cell_type": "code",
   "execution_count": 26,
   "id": "2d3436b3-3acf-4598-810e-ba2815119bad",
   "metadata": {},
   "outputs": [
    {
     "ename": "NameError",
     "evalue": "name 'month' is not defined",
     "output_type": "error",
     "traceback": [
      "\u001b[1;31m---------------------------------------------------------------------------\u001b[0m",
      "\u001b[1;31mNameError\u001b[0m                                 Traceback (most recent call last)",
      "\u001b[1;32m~\\AppData\\Local\\Temp/ipykernel_1484/474075620.py\u001b[0m in \u001b[0;36m<module>\u001b[1;34m\u001b[0m\n\u001b[0;32m      1\u001b[0m analyzed_bank_df = [\n\u001b[0;32m      2\u001b[0m     \u001b[1;33m{\u001b[0m\u001b[1;34m\"-------------------\"\u001b[0m\u001b[1;33m}\u001b[0m\u001b[1;33m,\u001b[0m\u001b[1;33m\u001b[0m\u001b[1;33m\u001b[0m\u001b[0m\n\u001b[1;32m----> 3\u001b[1;33m     \u001b[1;33m{\u001b[0m\u001b[0mmonth\u001b[0m\u001b[1;33m}\u001b[0m\u001b[1;33m,\u001b[0m\u001b[1;33m\u001b[0m\u001b[1;33m\u001b[0m\u001b[0m\n\u001b[0m\u001b[0;32m      4\u001b[0m     \u001b[1;33m{\u001b[0m\u001b[0mtotal\u001b[0m\u001b[1;33m}\u001b[0m\u001b[1;33m,\u001b[0m\u001b[1;33m\u001b[0m\u001b[1;33m\u001b[0m\u001b[0m\n\u001b[0;32m      5\u001b[0m     \u001b[1;33m{\u001b[0m\u001b[0maverage\u001b[0m\u001b[1;33m}\u001b[0m\u001b[1;33m,\u001b[0m\u001b[1;33m\u001b[0m\u001b[1;33m\u001b[0m\u001b[0m\n",
      "\u001b[1;31mNameError\u001b[0m: name 'month' is not defined"
     ]
    }
   ],
   "source": [
    "analyzed_bank_df = [\n",
    "    {\"-------------------\"},\n",
    "    {month},\n",
    "    {total},\n",
    "    {average},\n",
    "    {increase},\n",
    "    {decrease}]\n",
    "\n",
    "analyzed_bank_df = pd.DataFrame\n",
    "analyzed_bank_df.columns = [\"Financial Analysis\"]"
   ]
  },
  {
   "cell_type": "code",
   "execution_count": 27,
   "id": "63aa9b0f-433a-4696-a9e1-acd6f9e4bd2e",
   "metadata": {},
   "outputs": [
    {
     "ename": "NameError",
     "evalue": "name 'analyzed_bank_df' is not defined",
     "output_type": "error",
     "traceback": [
      "\u001b[1;31m---------------------------------------------------------------------------\u001b[0m",
      "\u001b[1;31mNameError\u001b[0m                                 Traceback (most recent call last)",
      "\u001b[1;32m~\\AppData\\Local\\Temp/ipykernel_1484/2512099390.py\u001b[0m in \u001b[0;36m<module>\u001b[1;34m\u001b[0m\n\u001b[1;32m----> 1\u001b[1;33m \u001b[0manalyzed_bank_df\u001b[0m\u001b[1;33m.\u001b[0m\u001b[0mto_csv\u001b[0m\u001b[1;33m(\u001b[0m\u001b[1;34m\"analysis/main.txt\"\u001b[0m\u001b[1;33m,\u001b[0m \u001b[0mindex\u001b[0m\u001b[1;33m=\u001b[0m\u001b[1;32mFalse\u001b[0m\u001b[1;33m)\u001b[0m\u001b[1;33m\u001b[0m\u001b[1;33m\u001b[0m\u001b[0m\n\u001b[0m",
      "\u001b[1;31mNameError\u001b[0m: name 'analyzed_bank_df' is not defined"
     ]
    }
   ],
   "source": [
    "analyzed_bank_df.to_csv(\"analysis/main.txt\", index=False)"
   ]
  },
  {
   "cell_type": "code",
   "execution_count": null,
   "id": "4f892e87-d1e6-4172-aeee-194cc61fb3e8",
   "metadata": {},
   "outputs": [],
   "source": []
  }
 ],
 "metadata": {
  "kernelspec": {
   "display_name": "Python 3 (ipykernel)",
   "language": "python",
   "name": "python3"
  },
  "language_info": {
   "codemirror_mode": {
    "name": "ipython",
    "version": 3
   },
   "file_extension": ".py",
   "mimetype": "text/x-python",
   "name": "python",
   "nbconvert_exporter": "python",
   "pygments_lexer": "ipython3",
   "version": "3.9.7"
  }
 },
 "nbformat": 4,
 "nbformat_minor": 5
}
