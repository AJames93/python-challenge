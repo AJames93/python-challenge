{
 "cells": [
  {
   "cell_type": "code",
   "execution_count": 1,
   "id": "e0f95f02-5df8-4ee3-a4c0-448219c31136",
   "metadata": {},
   "outputs": [],
   "source": [
    "import os \n",
    "import pandas as pd \n",
    "import math"
   ]
  },
  {
   "cell_type": "code",
   "execution_count": 2,
   "id": "d1482d70-9dc0-4f04-81c7-a70d29648738",
   "metadata": {},
   "outputs": [
    {
     "data": {
      "text/html": [
       "<div>\n",
       "<style scoped>\n",
       "    .dataframe tbody tr th:only-of-type {\n",
       "        vertical-align: middle;\n",
       "    }\n",
       "\n",
       "    .dataframe tbody tr th {\n",
       "        vertical-align: top;\n",
       "    }\n",
       "\n",
       "    .dataframe thead th {\n",
       "        text-align: right;\n",
       "    }\n",
       "</style>\n",
       "<table border=\"1\" class=\"dataframe\">\n",
       "  <thead>\n",
       "    <tr style=\"text-align: right;\">\n",
       "      <th></th>\n",
       "      <th>Voter ID</th>\n",
       "      <th>County</th>\n",
       "      <th>Candidate</th>\n",
       "    </tr>\n",
       "  </thead>\n",
       "  <tbody>\n",
       "    <tr>\n",
       "      <th>0</th>\n",
       "      <td>12864552</td>\n",
       "      <td>Marsh</td>\n",
       "      <td>Khan</td>\n",
       "    </tr>\n",
       "    <tr>\n",
       "      <th>1</th>\n",
       "      <td>17444633</td>\n",
       "      <td>Marsh</td>\n",
       "      <td>Correy</td>\n",
       "    </tr>\n",
       "    <tr>\n",
       "      <th>2</th>\n",
       "      <td>19330107</td>\n",
       "      <td>Marsh</td>\n",
       "      <td>Khan</td>\n",
       "    </tr>\n",
       "    <tr>\n",
       "      <th>3</th>\n",
       "      <td>19865775</td>\n",
       "      <td>Queen</td>\n",
       "      <td>Khan</td>\n",
       "    </tr>\n",
       "    <tr>\n",
       "      <th>4</th>\n",
       "      <td>11927875</td>\n",
       "      <td>Marsh</td>\n",
       "      <td>Khan</td>\n",
       "    </tr>\n",
       "  </tbody>\n",
       "</table>\n",
       "</div>"
      ],
      "text/plain": [
       "   Voter ID County Candidate\n",
       "0  12864552  Marsh      Khan\n",
       "1  17444633  Marsh    Correy\n",
       "2  19330107  Marsh      Khan\n",
       "3  19865775  Queen      Khan\n",
       "4  11927875  Marsh      Khan"
      ]
     },
     "execution_count": 2,
     "metadata": {},
     "output_type": "execute_result"
    }
   ],
   "source": [
    "poll_df = pd.read_csv(\"resources/election_data.csv\")\n",
    "poll_df.head()"
   ]
  },
  {
   "cell_type": "code",
   "execution_count": 3,
   "id": "8937ab35-6e3b-4cfb-80f8-b6b87e8c3b5f",
   "metadata": {},
   "outputs": [
    {
     "data": {
      "text/plain": [
       "3521001"
      ]
     },
     "execution_count": 3,
     "metadata": {},
     "output_type": "execute_result"
    }
   ],
   "source": [
    "#Total number of votes\n",
    "tot_votes = len(poll_df)\n",
    "tot_votes"
   ]
  },
  {
   "cell_type": "code",
   "execution_count": 4,
   "id": "35e1b460-d041-4c99-a974-4f960bde9a2a",
   "metadata": {},
   "outputs": [
    {
     "data": {
      "text/plain": [
       "Khan        2218231\n",
       "Correy       704200\n",
       "Li           492940\n",
       "O'Tooley     105630\n",
       "Name: Candidate, dtype: int64"
      ]
     },
     "execution_count": 4,
     "metadata": {},
     "output_type": "execute_result"
    }
   ],
   "source": [
    "#Total votes per candidate\n",
    "count = poll_df[\"Candidate\"].value_counts()\n",
    "count"
   ]
  },
  {
   "cell_type": "code",
   "execution_count": 5,
   "id": "481783d9-9fd5-4ff3-89a0-5bab6a197494",
   "metadata": {},
   "outputs": [
    {
     "data": {
      "text/plain": [
       "array(['Khan', 'Correy', 'Li', \"O'Tooley\"], dtype=object)"
      ]
     },
     "execution_count": 5,
     "metadata": {},
     "output_type": "execute_result"
    }
   ],
   "source": [
    "#All candidates listed\n",
    "all_candidates = poll_df[\"Candidate\"].unique()\n",
    "all_candidates"
   ]
  },
  {
   "cell_type": "code",
   "execution_count": 6,
   "id": "2ec73022-b806-4dbd-901c-e2d1609c4588",
   "metadata": {},
   "outputs": [
    {
     "data": {
      "text/plain": [
       "[2218231, 704200, 492940, 105630]"
      ]
     },
     "execution_count": 6,
     "metadata": {},
     "output_type": "execute_result"
    }
   ],
   "source": [
    "candidate_counts = poll_df[\"Candidate\"].value_counts().to_list()\n",
    "candidate_counts"
   ]
  },
  {
   "cell_type": "code",
   "execution_count": 7,
   "id": "fa3ce01f-992b-4c46-8b15-7124feff2ca7",
   "metadata": {},
   "outputs": [
    {
     "data": {
      "text/html": [
       "<div>\n",
       "<style scoped>\n",
       "    .dataframe tbody tr th:only-of-type {\n",
       "        vertical-align: middle;\n",
       "    }\n",
       "\n",
       "    .dataframe tbody tr th {\n",
       "        vertical-align: top;\n",
       "    }\n",
       "\n",
       "    .dataframe thead th {\n",
       "        text-align: right;\n",
       "    }\n",
       "</style>\n",
       "<table border=\"1\" class=\"dataframe\">\n",
       "  <thead>\n",
       "    <tr style=\"text-align: right;\">\n",
       "      <th></th>\n",
       "      <th>Candidate</th>\n",
       "      <th>Votes</th>\n",
       "    </tr>\n",
       "  </thead>\n",
       "  <tbody>\n",
       "    <tr>\n",
       "      <th>Khan</th>\n",
       "      <td>Khan</td>\n",
       "      <td>2218231</td>\n",
       "    </tr>\n",
       "    <tr>\n",
       "      <th>Correy</th>\n",
       "      <td>Correy</td>\n",
       "      <td>704200</td>\n",
       "    </tr>\n",
       "    <tr>\n",
       "      <th>Li</th>\n",
       "      <td>Li</td>\n",
       "      <td>492940</td>\n",
       "    </tr>\n",
       "    <tr>\n",
       "      <th>O'Tooley</th>\n",
       "      <td>O'Tooley</td>\n",
       "      <td>105630</td>\n",
       "    </tr>\n",
       "  </tbody>\n",
       "</table>\n",
       "</div>"
      ],
      "text/plain": [
       "         Candidate    Votes\n",
       "Khan          Khan  2218231\n",
       "Correy      Correy   704200\n",
       "Li              Li   492940\n",
       "O'Tooley  O'Tooley   105630"
      ]
     },
     "execution_count": 7,
     "metadata": {},
     "output_type": "execute_result"
    }
   ],
   "source": [
    "analyzed_poll_df = pd.DataFrame(count)\n",
    "analyzed_poll_df[\"Candidate\"] = all_candidates\n",
    "analyzed_poll_df[\"Votes\"] = candidate_counts\n",
    "analyzed_poll_df.head()"
   ]
  },
  {
   "cell_type": "code",
   "execution_count": 8,
   "id": "34c4321b-7063-4f94-b9b2-25fdb0498437",
   "metadata": {},
   "outputs": [
    {
     "data": {
      "text/plain": [
       "Khan        2218231\n",
       "Correy       704200\n",
       "Li           492940\n",
       "O'Tooley     105630\n",
       "Name: Votes, dtype: int64"
      ]
     },
     "execution_count": 8,
     "metadata": {},
     "output_type": "execute_result"
    }
   ],
   "source": [
    "vote_counter = analyzed_poll_df.loc[analyzed_poll_df[\"Votes\"] == candidate_counts, \"Votes\"] \n",
    "vote_counter"
   ]
  },
  {
   "cell_type": "code",
   "execution_count": 9,
   "id": "f070a4e5-0977-4cee-a6fb-26310e1cb562",
   "metadata": {},
   "outputs": [],
   "source": [
    "analyzed_poll_df = pd.DataFrame(vote_counter)"
   ]
  },
  {
   "cell_type": "code",
   "execution_count": 10,
   "id": "8e0ff134-09af-44f1-9379-360a7061daa1",
   "metadata": {},
   "outputs": [],
   "source": [
    "#Show % of votes for each candidate \n",
    "khanpct =  2218231 / tot_votes\n",
    "correypct = 704200 / tot_votes\n",
    "lipct = 492940 / tot_votes\n",
    "otooleypct = 105630 / tot_votes"
   ]
  },
  {
   "cell_type": "code",
   "execution_count": 11,
   "id": "8260ecc5-fb79-4864-9f22-3fcf170fd1f9",
   "metadata": {},
   "outputs": [
    {
     "data": {
      "text/plain": [
       "(63, 20, 14, 3)"
      ]
     },
     "execution_count": 11,
     "metadata": {},
     "output_type": "execute_result"
    }
   ],
   "source": [
    "#Rounding percentages \n",
    "candidate_pct = math.floor(khanpct*100), math.ceil(correypct*100), math.ceil(lipct*100), math.ceil(otooleypct*100)\n",
    "candidate_pct"
   ]
  },
  {
   "cell_type": "code",
   "execution_count": 12,
   "id": "d24831c7-7cc8-4ab3-aa30-268dad2b1f25",
   "metadata": {},
   "outputs": [
    {
     "data": {
      "text/html": [
       "<div>\n",
       "<style scoped>\n",
       "    .dataframe tbody tr th:only-of-type {\n",
       "        vertical-align: middle;\n",
       "    }\n",
       "\n",
       "    .dataframe tbody tr th {\n",
       "        vertical-align: top;\n",
       "    }\n",
       "\n",
       "    .dataframe thead th {\n",
       "        text-align: right;\n",
       "    }\n",
       "</style>\n",
       "<table border=\"1\" class=\"dataframe\">\n",
       "  <thead>\n",
       "    <tr style=\"text-align: right;\">\n",
       "      <th></th>\n",
       "      <th>Votes</th>\n",
       "      <th>Percentage</th>\n",
       "    </tr>\n",
       "  </thead>\n",
       "  <tbody>\n",
       "    <tr>\n",
       "      <th>Khan</th>\n",
       "      <td>2218231</td>\n",
       "      <td>63</td>\n",
       "    </tr>\n",
       "    <tr>\n",
       "      <th>Correy</th>\n",
       "      <td>704200</td>\n",
       "      <td>20</td>\n",
       "    </tr>\n",
       "    <tr>\n",
       "      <th>Li</th>\n",
       "      <td>492940</td>\n",
       "      <td>14</td>\n",
       "    </tr>\n",
       "    <tr>\n",
       "      <th>O'Tooley</th>\n",
       "      <td>105630</td>\n",
       "      <td>3</td>\n",
       "    </tr>\n",
       "  </tbody>\n",
       "</table>\n",
       "</div>"
      ],
      "text/plain": [
       "            Votes  Percentage\n",
       "Khan      2218231          63\n",
       "Correy     704200          20\n",
       "Li         492940          14\n",
       "O'Tooley   105630           3"
      ]
     },
     "execution_count": 12,
     "metadata": {},
     "output_type": "execute_result"
    }
   ],
   "source": [
    "analyzed_poll_df[\"Percentage\"] = candidate_pct\n",
    "analyzed_poll_df.head()"
   ]
  },
  {
   "cell_type": "code",
   "execution_count": 13,
   "id": "d1b3ce80-1ace-4c30-9d1f-2407e4dfd485",
   "metadata": {},
   "outputs": [
    {
     "name": "stdout",
     "output_type": "stream",
     "text": [
      "  Candidate    Votes  Percentage\n",
      "0      Khan  2218231          63\n",
      "1    Correy   704200          20\n",
      "2        Li   492940          14\n",
      "3  O'Tooley   105630           3\n"
     ]
    }
   ],
   "source": [
    "#Resetting index for df \n",
    "final_df = analyzed_poll_df.rename_axis(\"Candidate\").reset_index()\n",
    "print(final_df)"
   ]
  },
  {
   "cell_type": "code",
   "execution_count": 14,
   "id": "c16faedc-0338-4225-bd86-62a657a60cae",
   "metadata": {},
   "outputs": [
    {
     "data": {
      "text/plain": [
       "63"
      ]
     },
     "execution_count": 14,
     "metadata": {},
     "output_type": "execute_result"
    }
   ],
   "source": [
    "champ = analyzed_poll_df[\"Percentage\"].max()\n",
    "champ"
   ]
  },
  {
   "cell_type": "code",
   "execution_count": 15,
   "id": "f8081854-bad8-4479-ac7f-0a98fbf1ceb0",
   "metadata": {},
   "outputs": [],
   "source": [
    "winner = final_df.loc[final_df['Percentage'] == champ,'Candidate']"
   ]
  },
  {
   "cell_type": "code",
   "execution_count": 16,
   "id": "da0fa5a3-5dca-4a14-9c87-8331fbec2b10",
   "metadata": {},
   "outputs": [
    {
     "data": {
      "text/html": [
       "<div>\n",
       "<style scoped>\n",
       "    .dataframe tbody tr th:only-of-type {\n",
       "        vertical-align: middle;\n",
       "    }\n",
       "\n",
       "    .dataframe tbody tr th {\n",
       "        vertical-align: top;\n",
       "    }\n",
       "\n",
       "    .dataframe thead th {\n",
       "        text-align: right;\n",
       "    }\n",
       "</style>\n",
       "<table border=\"1\" class=\"dataframe\">\n",
       "  <thead>\n",
       "    <tr style=\"text-align: right;\">\n",
       "      <th></th>\n",
       "      <th>Candidate</th>\n",
       "      <th>Votes</th>\n",
       "      <th>Percentage</th>\n",
       "    </tr>\n",
       "  </thead>\n",
       "  <tbody>\n",
       "    <tr>\n",
       "      <th>0</th>\n",
       "      <td>Khan</td>\n",
       "      <td>2218231</td>\n",
       "      <td>63</td>\n",
       "    </tr>\n",
       "    <tr>\n",
       "      <th>1</th>\n",
       "      <td>Correy</td>\n",
       "      <td>704200</td>\n",
       "      <td>20</td>\n",
       "    </tr>\n",
       "    <tr>\n",
       "      <th>2</th>\n",
       "      <td>Li</td>\n",
       "      <td>492940</td>\n",
       "      <td>14</td>\n",
       "    </tr>\n",
       "    <tr>\n",
       "      <th>3</th>\n",
       "      <td>O'Tooley</td>\n",
       "      <td>105630</td>\n",
       "      <td>3</td>\n",
       "    </tr>\n",
       "  </tbody>\n",
       "</table>\n",
       "</div>"
      ],
      "text/plain": [
       "  Candidate    Votes  Percentage\n",
       "0      Khan  2218231          63\n",
       "1    Correy   704200          20\n",
       "2        Li   492940          14\n",
       "3  O'Tooley   105630           3"
      ]
     },
     "execution_count": 16,
     "metadata": {},
     "output_type": "execute_result"
    }
   ],
   "source": [
    "#Getting final data for analysis\n",
    "final_votes = (f\"Total Votes: {tot_votes}\")\n",
    "output = final_df\n",
    "win = (f\"Winner: {winner.to_string(index=False)}\")\n",
    "output\n"
   ]
  },
  {
   "cell_type": "code",
   "execution_count": 17,
   "id": "e4036a99-17b3-4bef-95e5-970b47bbffc8",
   "metadata": {},
   "outputs": [],
   "source": [
    "analysis = final_df.to_string(header=True, index=False)\n"
   ]
  },
  {
   "cell_type": "code",
   "execution_count": 18,
   "id": "89dc0252-523c-483c-a5d9-af613e78735b",
   "metadata": {},
   "outputs": [
    {
     "name": "stdout",
     "output_type": "stream",
     "text": [
      "Candidate   Votes  Percentage\n",
      "     Khan 2218231          63\n",
      "   Correy  704200          20\n",
      "       Li  492940          14\n",
      " O'Tooley  105630           3\n"
     ]
    }
   ],
   "source": [
    "print(analysis)"
   ]
  },
  {
   "cell_type": "code",
   "execution_count": 19,
   "id": "7d9a6423-fb3f-4493-b402-7f188f9af207",
   "metadata": {},
   "outputs": [
    {
     "name": "stdout",
     "output_type": "stream",
     "text": [
      "Election Results\n",
      "Total Votes: 3521001\n",
      "Candidate   Votes  Percentage\n",
      "     Khan 2218231          63\n",
      "   Correy  704200          20\n",
      "       Li  492940          14\n",
      " O'Tooley  105630           3\n",
      "Winner: Khan\n"
     ]
    }
   ],
   "source": [
    "#Printing results of analysis \n",
    "final_analysis = print(\"Election Results\"), print(final_votes), print(analysis), print(win)"
   ]
  },
  {
   "cell_type": "code",
   "execution_count": 20,
   "id": "ac2e08f7-324d-42a7-b61e-3468eb49cd18",
   "metadata": {},
   "outputs": [
    {
     "data": {
      "text/plain": [
       "[{'--------------------------------'},\n",
       " {'Total Votes: 3521001'},\n",
       " {'--------------------------------'},\n",
       " {\"Candidate   Votes  Percentage\\n     Khan 2218231          63\\n   Correy  704200          20\\n       Li  492940          14\\n O'Tooley  105630           3\"},\n",
       " {'--------------------------------'},\n",
       " {'Winner: Khan'}]"
      ]
     },
     "execution_count": 20,
     "metadata": {},
     "output_type": "execute_result"
    }
   ],
   "source": [
    "#Formatting final analysis \n",
    "ending_output = [\n",
    "    {\"--------------------------------\"},\n",
    "    {final_votes},\n",
    "    {\"--------------------------------\"},\n",
    "    {analysis},\n",
    "    {\"--------------------------------\"},\n",
    "    {win}\n",
    "     ]\n",
    "ending_output"
   ]
  },
  {
   "cell_type": "code",
   "execution_count": 21,
   "id": "b8fb821c-7e0c-4831-8291-f67eda8e2633",
   "metadata": {},
   "outputs": [
    {
     "data": {
      "text/html": [
       "<div>\n",
       "<style scoped>\n",
       "    .dataframe tbody tr th:only-of-type {\n",
       "        vertical-align: middle;\n",
       "    }\n",
       "\n",
       "    .dataframe tbody tr th {\n",
       "        vertical-align: top;\n",
       "    }\n",
       "\n",
       "    .dataframe thead th {\n",
       "        text-align: right;\n",
       "    }\n",
       "</style>\n",
       "<table border=\"1\" class=\"dataframe\">\n",
       "  <thead>\n",
       "    <tr style=\"text-align: right;\">\n",
       "      <th></th>\n",
       "      <th>Election Results</th>\n",
       "    </tr>\n",
       "  </thead>\n",
       "  <tbody>\n",
       "    <tr>\n",
       "      <th>0</th>\n",
       "      <td>--------------------------------</td>\n",
       "    </tr>\n",
       "    <tr>\n",
       "      <th>1</th>\n",
       "      <td>Total Votes: 3521001</td>\n",
       "    </tr>\n",
       "    <tr>\n",
       "      <th>2</th>\n",
       "      <td>--------------------------------</td>\n",
       "    </tr>\n",
       "    <tr>\n",
       "      <th>3</th>\n",
       "      <td>Candidate   Votes  Percentage\\n     Khan 22182...</td>\n",
       "    </tr>\n",
       "    <tr>\n",
       "      <th>4</th>\n",
       "      <td>--------------------------------</td>\n",
       "    </tr>\n",
       "    <tr>\n",
       "      <th>5</th>\n",
       "      <td>Winner: Khan</td>\n",
       "    </tr>\n",
       "  </tbody>\n",
       "</table>\n",
       "</div>"
      ],
      "text/plain": [
       "                                    Election Results\n",
       "0                   --------------------------------\n",
       "1                               Total Votes: 3521001\n",
       "2                   --------------------------------\n",
       "3  Candidate   Votes  Percentage\\n     Khan 22182...\n",
       "4                   --------------------------------\n",
       "5                                       Winner: Khan"
      ]
     },
     "execution_count": 21,
     "metadata": {},
     "output_type": "execute_result"
    }
   ],
   "source": [
    "#Renaming column of final analysis ticket \n",
    "analysis_ticket_df = pd.DataFrame(ending_output)\n",
    "analysis_ticket_df.columns = [\"Election Results\"]\n",
    "analysis_ticket_df"
   ]
  },
  {
   "cell_type": "code",
   "execution_count": 22,
   "id": "6637c28b-6386-453d-bc05-093dd95df7ae",
   "metadata": {},
   "outputs": [],
   "source": [
    "#Exporting results to text file \n",
    "analysis_ticket_df.to_csv(\"analysis/main.txt\", index=False)"
   ]
  },
  {
   "cell_type": "code",
   "execution_count": null,
   "id": "7e65675e-cae4-4257-8955-45f04d8761a4",
   "metadata": {},
   "outputs": [],
   "source": []
  }
 ],
 "metadata": {
  "kernelspec": {
   "display_name": "Python 3 (ipykernel)",
   "language": "python",
   "name": "python3"
  },
  "language_info": {
   "codemirror_mode": {
    "name": "ipython",
    "version": 3
   },
   "file_extension": ".py",
   "mimetype": "text/x-python",
   "name": "python",
   "nbconvert_exporter": "python",
   "pygments_lexer": "ipython3",
   "version": "3.9.7"
  }
 },
 "nbformat": 4,
 "nbformat_minor": 5
}
